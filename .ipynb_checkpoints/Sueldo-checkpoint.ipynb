{
 "cells": [
  {
   "cell_type": "code",
   "execution_count": 1,
   "metadata": {},
   "outputs": [],
   "source": [
    "import pandas as pd\n",
    "import numpy as np\n"
   ]
  },
  {
   "cell_type": "code",
   "execution_count": 3,
   "metadata": {},
   "outputs": [],
   "source": [
    "def BrutoANeto(fltSueldo= 28529.65, Tipo = \"Mensual\", DesplegaInfo=\"No\"):\n",
    "    boolT = True\n",
    "    intPos = 0\n",
    "    if (Tipo == \"Quincenal\"):\n",
    "        df1 = pd.read_csv(\"ISRQuincenal.csv\")\n",
    "    else:\n",
    "        if (Tipo == \"Mensual\"):\n",
    "            df1 = pd.read_csv(\"ISRMensual.csv\")\n",
    "        else:\n",
    "            if (Tipo == \"Semanal\"):\n",
    "                df1 = pd.read_csv(\"ISRSemanal.csv\")\n",
    "            else:\n",
    "                df1 = pd.read_csv(\"ISRCantidad.csv\")\n",
    "    df1 = df1.infer_objects()\n",
    "    while (boolT):\n",
    "        if(fltSueldo<df1.Superior[intPos]):\n",
    "            boolT=False\n",
    "        else:\n",
    "            intPos+=1\n",
    "    fltExcedente = fltSueldo - float (\"%.2f\" %df1.Inferior[intPos])\n",
    "    fltImpMarg = fltExcedente*float (\"%.2f\" % df1.Porciento[intPos])/100\n",
    "    fltImpTotal = float (\"%.2f\" %fltImpMarg) + float (\"%.2f\" %df1.Cuota[intPos])\n",
    "    \n",
    "    if(DesplegaInfo == \"Si\"):\n",
    "        print (\"Limite Inferior \", df1.Inferior[intPos])\n",
    "        print (\"Excedente\" + fltExcedente)\n",
    "        print (\"Impuesto marginal\" + fltImpMarg)\n",
    "        print (\"Cuota Fija\" + df1.Cuota[intPos])\n",
    "        print (\"Total ISR\" + fltImpTotal)\n",
    "        print (\"Total Neto\" + fltSueldo - fltImpTotal)\n",
    "    \n",
    "    return fltSueldo - fltImpTotal\n",
    "\n",
    "def NetoaBruto(fltSueldo= 23636.12,Tipo = \"Mensual\", DesplegaInfo=\"No\"):\n",
    "    boolT = True\n",
    "    intPos = 0\n",
    "    if (Tipo == \"Quincenal\"):\n",
    "        df1 = pd.read_csv(\"ISRQuincenal.csv\")\n",
    "    else:\n",
    "        if (Tipo == \"Mensual\"):\n",
    "            df1 = pd.read_csv(\"ISRMensual.csv\")\n",
    "        else:\n",
    "            if (Tipo == \"Semanal\"):\n",
    "                df1 = pd.read_csv(\"ISRSemanal.csv\")\n",
    "            else:\n",
    "                df1 = pd.read_csv(\"ISRCantidad.csv\")\n",
    "    df1 = df1.infer_objects()\n",
    "    \n",
    "    while (boolT):\n",
    "        if(fltSueldo<BrutoANeto(df1.Superior[intPos])):\n",
    "            boolT=False\n",
    "        else:\n",
    "            intPos+=1\n",
    "    sueldoBruto =(fltSueldo + df1.Cuota[intPos] -df1.Inferior[intPos]*df1.Porciento[intPos]/100)/(1-df1.Porciento[intPos]/100)\n",
    "    sueldoBruto = float (\"%.2f\" % sueldoBruto)\n",
    "    if(DesplegaInfo == \"Si\"):\n",
    "        return BrutoANeto(sueldoBruto, Tipo, DesplegaInfo)\n",
    "    else:\n",
    "        return sueldoBruto\n",
    "\n",
    "def comparacionBrutoAnual(Sueldo=36750, SeguroVida=1, Vales=960, FA=0, DiasAguinaldo=26, DVacaciones =6, PVacacional= .75, SGMM=1,\n",
    "                 Comida=0):\n",
    "    SN = BrutoANeto(Sueldo)\n",
    "    SueldoDiario = SN / 28.4\n",
    "    SAnual = SN*12 + Vales*12 + FA*12+ DiasAguinaldo*SueldoDiario + SueldoDiario*PVacacional*DVacaciones\n",
    "    return NetoaBruto(SAnual/12)\n",
    "\n",
    "    \n",
    "def comparacionNetoAnual(Sueldo=36750, SeguroVida=1, Vales=960, FA=0, DiasAguinaldo=26, DVacaciones =6, PVacacional= .75, SGMM=1,\n",
    "                 Comida=0):\n",
    "    SN = BrutoANeto(Sueldo)\n",
    "    SueldoDiario = SN / 28.4\n",
    "    SAnual = SN*12 + Vales*12 + FA*12+ DiasAguinaldo*SueldoDiario + SueldoDiario*PVacacional*DVacaciones\n",
    "    return NetoaBruto(SAnual/12)\n",
    "\n",
    "def LiquidezNeto(Sueldo=36750, Vales=960, FA=0,Comida=0):\n",
    "    SN = BrutoANeto(Sueldo)\n",
    "    SueldoDiario = float (\"%.2f\" % SueldoDiario)\n",
    "    Q1 = SN/2\n",
    "    if (FA !=0):\n",
    "        Q2 = Q1 - FA + Vales\n",
    "    else:\n",
    "        Q2 = Q1 + Vales\n",
    "    print (\"Quincena 1 \", Q1)\n",
    "    print (\"Quincena 2 \", Q2)\n",
    "    return SN + Vales +FA\n",
    "\n",
    "def LiquidezBruto(Sueldo=36750, Vales=960, FA=0,Comida=0):\n",
    "\n",
    "    return NetoaBruto(LiquidezNeto(Sueldo, Vales, FA))\n",
    "\n",
    "def PretencionesNeto(Sueldo=36750, SeguroVida=1, Vales=960, FA=0, DiasAguinaldo=26, DVacaciones =6, PVacacional= .25, SGMM=1,\n",
    "                 Comida=0):\n",
    "    SN = BrutoANeto(Sueldo)\n",
    "    SueldoDiario = SN / 28.4\n",
    "    SueldoDiario = float (\"%.2f\" % SueldoDiario)\n",
    "    \n",
    "    SAnual = SN*12 + Vales*12 + FA*12+ DiasAguinaldo*SueldoDiario + SueldoDiario*PVacacional*DVacaciones\n",
    "    return round (SAnual / 12,2)\n",
    "def PretencionesBruto(Sueldo=36750, SeguroVida=1, Vales=960, FA=0, DiasAguinaldo=26, DVacaciones =6, PVacacional= .75, SGMM=1,\n",
    "                 Comida=0, Utiles = 3.858):\n",
    "    SN = BrutoANeto(Sueldo)\n",
    "    SueldoDiario = SN / 28.4\n",
    "    SAnual = SN*12 + Vales*12 + FA*12+ DiasAguinaldo*SueldoDiario + SueldoDiario*PVacacional*DVacaciones\n",
    "    return NetoaBruto(PretencionesNeto( Sueldo, SeguroVida, Vales, FA, DiasAguinaldo, DVacaciones, PVacacional, SGMM, Comida))\n",
    "def CalculaTransporteDia(intCamiones = 2, intMetro = 2):\n",
    "        return intCamiones*7 + intMetro*5 \n",
    "def CalculaTransporteSemanaTaxi(intCamiones = 2, intMetro = 2, taxi = 180, frecuencia = 1):\n",
    "        return CalculaTransporteDia + taxi*frecuencia*7\n",
    "def CostosMensuales(renta = 6000, transporte = 1500, comida = 1600, SV = 200, SGMM = 1700):\n",
    "    return renta + transporte + comida \n",
    "\n",
    "def liquides( SN, Costos = 0, renta = 5900, servicios = 1000, transporte = 2500, PH = 1500, BNMX = 10000, tienda = 3500, valesMa = 0, deudaMa = 2000 ):\n",
    "    gastosQ1  = (Costos/2 + renta + servicios + transporte / 2 + PH + tienda+ valesMa )\n",
    "    gastosQ2  = (Costos/2 + transporte/2 + BNMX + deudaMa)\n",
    "    Q1 = SN/2 - gastosQ1\n",
    "    Q2 = SN/2 - gastosQ2\n",
    "    print(SN, SN/2\n",
    "         )\n",
    "    print (Q1,gastosQ1)\n",
    "    print (Q2,gastosQ2)\n",
    "    \n",
    "def TelcelBruto(Sueldo=36750, SeguroVida=1, Vales=960, FA=13, DiasAguinaldo=36, DVacaciones =6, PVacacional= .80, SGMM=1,\n",
    "                 Comida=0, Utiles = 3.858):\n",
    "    \n",
    "    SN = Sueldo#BrutoANeto(Sueldo)\n",
    "    SueldoDiario = SN / 28.4\n",
    "    FAT = 0\n",
    "    SAnual = SN*12 + Vales*12 + 2300*12+ DiasAguinaldo*SueldoDiario + SueldoDiario*PVacacional*DVacaciones +10*SueldoDiario*PVacacional +10*SueldoDiario+ (Utiles/100)*SN*12\n",
    "    print (SAnual/12)\n",
    "    return SAnual/12#NetoaBruto(PretencionesNeto( Sueldo, SeguroVida, Vales, FA, DiasAguinaldo, DVacaciones, PVacacional, SGMM, Comida))\n"
   ]
  },
  {
   "cell_type": "code",
   "execution_count": null,
   "metadata": {},
   "outputs": [],
   "source": [
    "def PretencionesNetoLes(Sueldo=28000, Vales=2000, FA=0, DiasAguinaldo=26, DVacaciones =6, PVacacional= .25, SGMM=1,\n",
    "                 Comida=0):\n",
    "    SN = BrutoANeto(Sueldo)\n",
    "    SueldoDiario = SN / 28.4\n",
    "    SueldoDiario = float (\"%.2f\" % SueldoDiario)\n",
    "    \n",
    "    SAnual = SN*12 + Vales*12 + FA*12+ DiasAguinaldo*SueldoDiario + SueldoDiario*PVacacional*DVacaciones\n",
    "    return round (SAnual / 12,2)"
   ]
  },
  {
   "cell_type": "code",
   "execution_count": null,
   "metadata": {},
   "outputs": [],
   "source": [
    "PretencionesNeto(28000, vales = 2000, FA)"
   ]
  },
  {
   "cell_type": "code",
   "execution_count": 11,
   "metadata": {},
   "outputs": [
    {
     "data": {
      "text/plain": [
       "48510.0"
      ]
     },
     "execution_count": 11,
     "metadata": {},
     "output_type": "execute_result"
    }
   ],
   "source": [
    "11/100*36750*12"
   ]
  },
  {
   "cell_type": "code",
   "execution_count": 12,
   "metadata": {},
   "outputs": [
    {
     "data": {
      "text/plain": [
       "33690.57"
      ]
     },
     "execution_count": 12,
     "metadata": {},
     "output_type": "execute_result"
    }
   ],
   "source": [
    "BrutoANeto(42000)\n"
   ]
  },
  {
   "cell_type": "code",
   "execution_count": 16,
   "metadata": {},
   "outputs": [
    {
     "data": {
      "text/plain": [
       "2438.840000000004"
      ]
     },
     "execution_count": 16,
     "metadata": {},
     "output_type": "execute_result"
    }
   ],
   "source": [
    "BrutoANeto(45500)- (BrutoANeto(36750) +960+2818.68)\n"
   ]
  },
  {
   "cell_type": "code",
   "execution_count": 19,
   "metadata": {
    "scrolled": true
   },
   "outputs": [
    {
     "data": {
      "text/plain": [
       "35790.57"
      ]
     },
     "execution_count": 19,
     "metadata": {},
     "output_type": "execute_result"
    }
   ],
   "source": [
    "BrutoANeto(45000)"
   ]
  },
  {
   "cell_type": "code",
   "execution_count": 13,
   "metadata": {},
   "outputs": [
    {
     "name": "stdout",
     "output_type": "stream",
     "text": [
      "47768.48401408451\n"
     ]
    },
    {
     "data": {
      "text/plain": [
       "47768.48401408451"
      ]
     },
     "execution_count": 13,
     "metadata": {},
     "output_type": "execute_result"
    }
   ],
   "source": [
    "TelcelBruto()"
   ]
  },
  {
   "cell_type": "code",
   "execution_count": 14,
   "metadata": {},
   "outputs": [
    {
     "name": "stdout",
     "output_type": "stream",
     "text": [
      "47768.48401408451\n"
     ]
    },
    {
     "data": {
      "text/plain": [
       "47768.48401408451"
      ]
     },
     "execution_count": 14,
     "metadata": {},
     "output_type": "execute_result"
    }
   ],
   "source": [
    "TelcelBruto()"
   ]
  },
  {
   "cell_type": "code",
   "execution_count": 17,
   "metadata": {},
   "outputs": [
    {
     "data": {
      "text/plain": [
       "4253.445000000001"
      ]
     },
     "execution_count": 17,
     "metadata": {},
     "output_type": "execute_result"
    }
   ],
   "source": [
    "36750*12*.03858/12*3\n",
    "\n"
   ]
  },
  {
   "cell_type": "code",
   "execution_count": 4,
   "metadata": {},
   "outputs": [
    {
     "data": {
      "text/plain": [
       "46695.44"
      ]
     },
     "execution_count": 4,
     "metadata": {},
     "output_type": "execute_result"
    }
   ],
   "source": [
    "BrutoANeto(65000, \"Quincenal\")"
   ]
  },
  {
   "cell_type": "code",
   "execution_count": 15,
   "metadata": {},
   "outputs": [
    {
     "data": {
      "text/plain": [
       "49790.57"
      ]
     },
     "execution_count": 15,
     "metadata": {},
     "output_type": "execute_result"
    }
   ],
   "source": [
    "BrutoANeto(65000)"
   ]
  },
  {
   "cell_type": "code",
   "execution_count": 9,
   "metadata": {},
   "outputs": [
    {
     "data": {
      "text/plain": [
       "510057.72"
      ]
     },
     "execution_count": 9,
     "metadata": {},
     "output_type": "execute_result"
    }
   ],
   "source": [
    "Base = PretencionesNeto(36750, SeguroVida=0, Vales=960, FA=0, DiasAguinaldo=36, DVacaciones =0, PVacacional=.80, SGMM=0,\n",
    "                 Comida=0)\n",
    "Base\n",
    "NetoaBruto(Base)*12"
   ]
  },
  {
   "cell_type": "code",
   "execution_count": 9,
   "metadata": {},
   "outputs": [
    {
     "data": {
      "text/plain": [
       "48041.74"
      ]
     },
     "execution_count": 9,
     "metadata": {},
     "output_type": "execute_result"
    }
   ],
   "source": [
    "PretencionesBruto(40000, SeguroVida=0, Vales=2300, FA=13, DiasAguinaldo=30, DVacaciones =10, PVacacional=.50, SGMM=0,\n",
    "                 Comida=0)"
   ]
  },
  {
   "cell_type": "code",
   "execution_count": 7,
   "metadata": {},
   "outputs": [
    {
     "name": "stdout",
     "output_type": "stream",
     "text": [
      "48432.63894366199\n"
     ]
    },
    {
     "data": {
      "text/plain": [
       "38193.418943661985"
      ]
     },
     "execution_count": 7,
     "metadata": {},
     "output_type": "execute_result"
    }
   ],
   "source": [
    "BrutoANeto(TelcelBruto())"
   ]
  },
  {
   "cell_type": "code",
   "execution_count": 7,
   "metadata": {},
   "outputs": [
    {
     "data": {
      "text/plain": [
       "42504.81"
      ]
     },
     "execution_count": 7,
     "metadata": {},
     "output_type": "execute_result"
    }
   ],
   "source": [
    "NetoaBruto(Base)"
   ]
  },
  {
   "cell_type": "code",
   "execution_count": 8,
   "metadata": {},
   "outputs": [],
   "source": [
    "Bancomer = PretencionesNeto(42000, SeguroVida=0, Vales=0, FA=0, DiasAguinaldo=60, DVacaciones =0, PVacacional= .75, SGMM=1,\n",
    "                 Comida=0)"
   ]
  },
  {
   "cell_type": "code",
   "execution_count": 9,
   "metadata": {},
   "outputs": [
    {
     "data": {
      "text/plain": [
       "39622.02"
      ]
     },
     "execution_count": 9,
     "metadata": {},
     "output_type": "execute_result"
    }
   ],
   "source": [
    "Bancomer"
   ]
  },
  {
   "cell_type": "code",
   "execution_count": 10,
   "metadata": {},
   "outputs": [
    {
     "data": {
      "text/plain": [
       "50473.5"
      ]
     },
     "execution_count": 10,
     "metadata": {},
     "output_type": "execute_result"
    }
   ],
   "source": [
    "NetoaBruto(Bancomer)"
   ]
  },
  {
   "cell_type": "code",
   "execution_count": 11,
   "metadata": {},
   "outputs": [],
   "source": [
    "Bancomer = PretencionesNeto(42000, SeguroVida=0, Vales=0, FA=0, DiasAguinaldo=45, DVacaciones =0, PVacacional= .75, SGMM=1,\n",
    "                 Comida=0)"
   ]
  },
  {
   "cell_type": "code",
   "execution_count": 12,
   "metadata": {},
   "outputs": [],
   "source": [
    "Azteca = PretencionesNeto(NetoaBruto(38000), SeguroVida=0, Vales=0, FA=0, DiasAguinaldo=60, DVacaciones =0, PVacacional= .25, SGMM=0,\n",
    "                 Comida=0)"
   ]
  },
  {
   "cell_type": "code",
   "execution_count": 13,
   "metadata": {},
   "outputs": [
    {
     "data": {
      "text/plain": [
       "44690.15"
      ]
     },
     "execution_count": 13,
     "metadata": {},
     "output_type": "execute_result"
    }
   ],
   "source": [
    "Azteca"
   ]
  },
  {
   "cell_type": "code",
   "execution_count": null,
   "metadata": {},
   "outputs": [],
   "source": []
  },
  {
   "cell_type": "code",
   "execution_count": 11,
   "metadata": {},
   "outputs": [],
   "source": [
    "BNMX = PretencionesNeto(75000, SeguroVida=0, Vales=0, FA=0, DiasAguinaldo=0, DVacaciones =40, PVacacional= .25, SGMM=0,\n",
    "                 Comida=0)"
   ]
  },
  {
   "cell_type": "code",
   "execution_count": 12,
   "metadata": {},
   "outputs": [
    {
     "data": {
      "text/plain": [
       "29206.73"
      ]
     },
     "execution_count": 12,
     "metadata": {},
     "output_type": "execute_result"
    }
   ],
   "source": [
    "BNMX/2"
   ]
  },
  {
   "cell_type": "code",
   "execution_count": 21,
   "metadata": {},
   "outputs": [
    {
     "data": {
      "text/plain": [
       "53295.44"
      ]
     },
     "execution_count": 21,
     "metadata": {},
     "output_type": "execute_result"
    }
   ],
   "source": [
    "BrutoANeto(75000, \"Quincenal\")"
   ]
  },
  {
   "cell_type": "code",
   "execution_count": 14,
   "metadata": {},
   "outputs": [
    {
     "data": {
      "text/plain": [
       "42887.75"
      ]
     },
     "execution_count": 14,
     "metadata": {},
     "output_type": "execute_result"
    }
   ],
   "source": [
    "NetoaBruto(32000, \"Quincenal\")"
   ]
  },
  {
   "cell_type": "code",
   "execution_count": null,
   "metadata": {},
   "outputs": [],
   "source": [
    "BrutoANeto(75000, \"Quincenal\")"
   ]
  }
 ],
 "metadata": {
  "kernelspec": {
   "display_name": "Python 3",
   "language": "python",
   "name": "python3"
  },
  "language_info": {
   "codemirror_mode": {
    "name": "ipython",
    "version": 3
   },
   "file_extension": ".py",
   "mimetype": "text/x-python",
   "name": "python",
   "nbconvert_exporter": "python",
   "pygments_lexer": "ipython3",
   "version": "3.7.0"
  }
 },
 "nbformat": 4,
 "nbformat_minor": 2
}
